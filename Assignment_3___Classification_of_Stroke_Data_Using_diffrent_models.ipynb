{
  "nbformat": 4,
  "nbformat_minor": 0,
  "metadata": {
    "colab": {
      "provenance": []
    },
    "kernelspec": {
      "name": "python3",
      "display_name": "Python 3"
    },
    "language_info": {
      "name": "python"
    }
  },
  "cells": [
    {
      "cell_type": "code",
      "source": [
        "import pandas as pd\n",
        "from sklearn.model_selection import train_test_split, GridSearchCV\n",
        "from sklearn.linear_model import LogisticRegression\n",
        "from sklearn.ensemble import RandomForestClassifier\n",
        "from sklearn.svm import SVC\n",
        "from sklearn.preprocessing import StandardScaler\n",
        "from sklearn.metrics import classification_report, accuracy_score\n",
        "from imblearn.over_sampling import SMOTE\n",
        "from imblearn.pipeline import Pipeline"
      ],
      "metadata": {
        "id": "kyMI6LIz2Fp6"
      },
      "execution_count": 11,
      "outputs": []
    },
    {
      "cell_type": "code",
      "source": [
        "# Load the dataset\n",
        "data_path = 'stroke.csv'\n",
        "data = pd.read_csv(data_path)\n",
        "\n",
        "# Fill missing values for 'bmi' with the median\n",
        "data['bmi'].fillna(data['bmi'].median(), inplace=True)\n",
        "\n",
        "# Convert categorical variables to numeric using one-hot encoding\n",
        "data = pd.get_dummies(data, drop_first=True)\n",
        "\n",
        "# Split the data into features and target\n",
        "X = data.drop('stroke', axis=1)\n",
        "y = data['stroke']\n",
        "\n",
        "# Scale the data\n",
        "scaler = StandardScaler()\n",
        "X_scaled = scaler.fit_transform(X)\n",
        "\n",
        "# Split the data into training and testing sets\n",
        "X_train, X_test, y_train, y_test = train_test_split(X_scaled, y, test_size=0.2, random_state=42)"
      ],
      "metadata": {
        "id": "T6V1AnrB2Jb2"
      },
      "execution_count": 12,
      "outputs": []
    },
    {
      "cell_type": "code",
      "source": [
        "# Define the models and hyperparameters with pipelines including SMOTE and class weights\n",
        "models = {\n",
        "    'Logistic Regression': Pipeline([\n",
        "        ('smote', SMOTE(random_state=42)),\n",
        "        ('classifier', LogisticRegression(max_iter=500, solver='liblinear', class_weight='balanced'))\n",
        "    ]),\n",
        "    'Random Forest': Pipeline([\n",
        "        ('smote', SMOTE(random_state=42)),\n",
        "        ('classifier', RandomForestClassifier(class_weight='balanced'))\n",
        "    ]),\n",
        "    'SVM': Pipeline([\n",
        "        ('smote', SMOTE(random_state=42)),\n",
        "        ('classifier', SVC(class_weight='balanced'))\n",
        "    ])\n",
        "}\n",
        "\n",
        "param_grid = {\n",
        "    'Logistic Regression': {'classifier__C': [0.01, 0.1, 1, 10, 100]},\n",
        "    'Random Forest': {'classifier__n_estimators': [50, 100, 200], 'classifier__max_depth': [None, 10, 20, 30]},\n",
        "    'SVM': {'classifier__C': [0.01, 0.1, 1, 10, 100], 'classifier__kernel': ['linear', 'rbf']}\n",
        "}\n",
        "\n",
        "# Fine-tune the models using GridSearchCV\n",
        "best_models = {}\n",
        "for model_name in models:\n",
        "    grid_search = GridSearchCV(models[model_name], param_grid[model_name], cv=5, scoring='accuracy', n_jobs=-1)\n",
        "    grid_search.fit(X_train, y_train)\n",
        "    best_models[model_name] = grid_search.best_estimator_\n",
        "\n",
        "# Evaluate the models\n",
        "for model_name in best_models:\n",
        "    y_pred = best_models[model_name].predict(X_test)\n",
        "    print(f\"Model: {model_name}\")\n",
        "    print(f\"Accuracy: {accuracy_score(y_test, y_pred)}\")\n",
        "    print(classification_report(y_test, y_pred))\n",
        "    print(\"\\n\")\n"
      ],
      "metadata": {
        "colab": {
          "base_uri": "https://localhost:8080/"
        },
        "id": "kqAr-wpbzFBr",
        "outputId": "e476a7f1-99a1-4dfe-80df-7c1925be9a17"
      },
      "execution_count": 10,
      "outputs": [
        {
          "output_type": "stream",
          "name": "stdout",
          "text": [
            "Model: Logistic Regression\n",
            "Accuracy: 0.7553816046966731\n",
            "              precision    recall  f1-score   support\n",
            "\n",
            "           0       0.98      0.75      0.85       960\n",
            "           1       0.17      0.81      0.29        62\n",
            "\n",
            "    accuracy                           0.76      1022\n",
            "   macro avg       0.58      0.78      0.57      1022\n",
            "weighted avg       0.93      0.76      0.82      1022\n",
            "\n",
            "\n",
            "\n",
            "Model: Random Forest\n",
            "Accuracy: 0.9168297455968689\n",
            "              precision    recall  f1-score   support\n",
            "\n",
            "           0       0.94      0.97      0.96       960\n",
            "           1       0.15      0.08      0.11        62\n",
            "\n",
            "    accuracy                           0.92      1022\n",
            "   macro avg       0.55      0.53      0.53      1022\n",
            "weighted avg       0.89      0.92      0.90      1022\n",
            "\n",
            "\n",
            "\n",
            "Model: SVM\n",
            "Accuracy: 0.8913894324853229\n",
            "              precision    recall  f1-score   support\n",
            "\n",
            "           0       0.95      0.94      0.94       960\n",
            "           1       0.14      0.16      0.15        62\n",
            "\n",
            "    accuracy                           0.89      1022\n",
            "   macro avg       0.55      0.55      0.55      1022\n",
            "weighted avg       0.90      0.89      0.89      1022\n",
            "\n",
            "\n",
            "\n"
          ]
        }
      ]
    },
    {
      "cell_type": "code",
      "source": [],
      "metadata": {
        "id": "u4Q7aJsJzF5I"
      },
      "execution_count": null,
      "outputs": []
    }
  ]
}